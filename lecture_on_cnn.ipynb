{
  "metadata": {
    "kernelspec": {
      "language": "python",
      "display_name": "Python 3",
      "name": "python3"
    },
    "language_info": {
      "pygments_lexer": "ipython3",
      "nbconvert_exporter": "python",
      "version": "3.6.4",
      "file_extension": ".py",
      "codemirror_mode": {
        "name": "ipython",
        "version": 3
      },
      "name": "python",
      "mimetype": "text/x-python"
    },
    "colab": {
      "provenance": []
    }
  },
  "nbformat_minor": 0,
  "nbformat": 4,
  "cells": [
    {
      "cell_type": "code",
      "source": [
        "import torch\n",
        "import torch.nn as nn\n",
        "import torch.nn.functional as F\n",
        "import torchvision\n",
        "import torchvision.transforms as transforms\n",
        "import torchvision.datasets as dsets"
      ],
      "metadata": {
        "id": "14qoYXRpUvRQ",
        "execution": {
          "iopub.status.busy": "2021-12-24T20:36:46.93905Z",
          "iopub.execute_input": "2021-12-24T20:36:46.939946Z",
          "iopub.status.idle": "2021-12-24T20:36:48.090338Z",
          "shell.execute_reply.started": "2021-12-24T20:36:46.939839Z",
          "shell.execute_reply": "2021-12-24T20:36:48.089535Z"
        },
        "trusted": true
      },
      "execution_count": null,
      "outputs": []
    },
    {
      "cell_type": "code",
      "source": [
        "'''\n",
        "LOADING DATASET\n",
        "'''\n",
        "train = dsets.MNIST(root='./data',\n",
        "                            train=True,\n",
        "                            transform=transforms.ToTensor(),  # Normalize the image to [0-1] from [0-255]\n",
        "                            download=True)\n",
        "\n",
        "test = dsets.MNIST(root='./data',\n",
        "                           train=False,\n",
        "                           transform=transforms.ToTensor())\n"
      ],
      "metadata": {
        "id": "WppwisGP9sre"
      },
      "execution_count": null,
      "outputs": []
    },
    {
      "cell_type": "code",
      "source": [
        "print(len(train))"
      ],
      "metadata": {
        "colab": {
          "base_uri": "https://localhost:8080/"
        },
        "id": "MYxryXLqMMXk",
        "outputId": "6ae86556-2e00-4631-f285-ffd35c33cf80"
      },
      "execution_count": null,
      "outputs": [
        {
          "output_type": "stream",
          "name": "stdout",
          "text": [
            "60000\n"
          ]
        }
      ]
    },
    {
      "cell_type": "code",
      "source": [
        "from torch import tensor\n",
        "traindata = [train[i] for i in range(len(train))]\n",
        "train = torch.stack([d[0] for d in traindata], dim=0)\n",
        "train=train[0:59999]\n",
        "ys = [d[1] for d in traindata]\n",
        "train_y = tensor(ys)\n",
        "\n",
        "testdata = [test[i] for i in range(len(test))]\n",
        "test = torch.stack([d[0] for d in testdata], dim=0)\n",
        "test=test[0:9999]\n",
        "ys = [d[1] for d in testdata]\n",
        "test_y = tensor(ys)"
      ],
      "metadata": {
        "id": "r5SrD8eELWzd"
      },
      "execution_count": null,
      "outputs": []
    },
    {
      "cell_type": "markdown",
      "source": [
        "# Seeding"
      ],
      "metadata": {
        "id": "vPxOH1fdmDHu"
      }
    },
    {
      "cell_type": "code",
      "source": [
        "torch.manual_seed(120)"
      ],
      "metadata": {
        "execution": {
          "iopub.status.busy": "2021-12-24T20:36:48.092218Z",
          "iopub.execute_input": "2021-12-24T20:36:48.092665Z",
          "iopub.status.idle": "2021-12-24T20:36:48.103509Z",
          "shell.execute_reply.started": "2021-12-24T20:36:48.0926Z",
          "shell.execute_reply": "2021-12-24T20:36:48.102544Z"
        },
        "trusted": true,
        "colab": {
          "base_uri": "https://localhost:8080/"
        },
        "id": "9IrcAuaFmDHw",
        "outputId": "e479af16-0bf6-4b72-e1b1-16043aa5a812"
      },
      "execution_count": null,
      "outputs": [
        {
          "output_type": "execute_result",
          "data": {
            "text/plain": [
              "<torch._C.Generator at 0x7f8f3c9c4650>"
            ]
          },
          "metadata": {},
          "execution_count": 208
        }
      ]
    },
    {
      "cell_type": "markdown",
      "source": [
        "# Dataset Loading"
      ],
      "metadata": {
        "id": "SFVuB4K2Yy5d"
      }
    },
    {
      "cell_type": "code",
      "source": [
        "train = torch.rand(6000, 28, 28, 1)\n",
        "test = torch.rand(1000, 28, 28, 1)\n",
        "train_y = torch.randint(0,9, (6000,))\n",
        "test_y = torch.randint(0,9, (1000,))"
      ],
      "metadata": {
        "id": "1sf_lFWLY19s",
        "execution": {
          "iopub.status.busy": "2021-12-24T20:36:48.104857Z",
          "iopub.execute_input": "2021-12-24T20:36:48.105463Z",
          "iopub.status.idle": "2021-12-24T20:37:08.562987Z",
          "shell.execute_reply.started": "2021-12-24T20:36:48.105427Z",
          "shell.execute_reply": "2021-12-24T20:37:08.562015Z"
        },
        "trusted": true
      },
      "execution_count": null,
      "outputs": []
    },
    {
      "cell_type": "code",
      "source": [
        "print(train_y)"
      ],
      "metadata": {
        "colab": {
          "base_uri": "https://localhost:8080/"
        },
        "id": "5pb0bmrystBo",
        "outputId": "1e86053d-eb61-4232-8036-f0b75f8ba0eb"
      },
      "execution_count": null,
      "outputs": [
        {
          "output_type": "stream",
          "name": "stdout",
          "text": [
            "tensor([1, 4, 5,  ..., 2, 8, 0])\n"
          ]
        }
      ]
    },
    {
      "cell_type": "markdown",
      "source": [
        "# Model Architeture"
      ],
      "metadata": {
        "id": "EM117WqAYErG"
      }
    },
    {
      "cell_type": "code",
      "source": [
        "class NeuralNetwork(nn.Module):\n",
        "    def __init__(self, input_dim):\n",
        "        super(NeuralNetwork, self).__init__()\n",
        "        self.cnn_layer_1 = nn.Conv2d(in_channels=1, out_channels=16,kernel_size=5, stride=1, padding=2)\n",
        "        self.cnn_layer_2 = nn.Conv2d(in_channels=16, out_channels=32,kernel_size=5, stride=1, padding=2)\n",
        "\n",
        "        self.flatten = nn.Flatten()\n",
        "        self.maxpool = nn.MaxPool2d(2,2)\n",
        "\n",
        "        self.linear_layer_1 = nn.Linear(32*7*7, 512)\n",
        "        self.linear_layer_2 = nn.Linear(512, 128)\n",
        "        self.linear_layer_3 = nn.Linear(128, 10)\n",
        "\n",
        "        self.relu = nn.ReLU()\n",
        "        self.sigmoid = nn.Sigmoid()\n",
        "        self.dropout = nn.Dropout(.2)\n",
        "\n",
        "        # self.flatten = nn.Flatten()\n",
        "\n",
        "    def forward(self, x):\n",
        "\n",
        "        x = self.cnn_layer_1(x)\n",
        "        x = self.dropout(x)\n",
        "        x = self.relu(x)\n",
        "        x = self.maxpool(x)\n",
        "\n",
        "        #print(x.shape)\n",
        "\n",
        "        x = self.cnn_layer_2(x)\n",
        "        x = self.dropout(x)\n",
        "        x = self.relu(x)\n",
        "        x = self.maxpool(x)\n",
        "\n",
        "        #print(x.shape)\n",
        "\n",
        "        x = self.flatten(x)\n",
        "        #print(x.shape)\n",
        "\n",
        "        x = self.linear_layer_1(x)\n",
        "        x = self.dropout(x)\n",
        "        x = self.relu(x)\n",
        "\n",
        "        x = self.linear_layer_2(x)\n",
        "        x = self.dropout(x)\n",
        "        x = self.relu(x)\n",
        "\n",
        "        x = self.linear_layer_3(x)\n",
        "        #logits = self.sigmoid(x)\n",
        "        return x"
      ],
      "metadata": {
        "id": "2NCXKexaV83J",
        "execution": {
          "iopub.status.busy": "2021-12-24T20:37:08.565257Z",
          "iopub.execute_input": "2021-12-24T20:37:08.565491Z",
          "iopub.status.idle": "2021-12-24T20:37:08.578345Z",
          "shell.execute_reply.started": "2021-12-24T20:37:08.565462Z",
          "shell.execute_reply": "2021-12-24T20:37:08.577465Z"
        },
        "trusted": true
      },
      "execution_count": null,
      "outputs": []
    },
    {
      "cell_type": "markdown",
      "source": [
        "# Model Creation"
      ],
      "metadata": {
        "id": "2Q7WZXWEYVSD"
      }
    },
    {
      "cell_type": "code",
      "source": [
        "model = NeuralNetwork(784)\n",
        "print(model)\n",
        "\n"
      ],
      "metadata": {
        "id": "gplitmj1YZid",
        "outputId": "bf4fd190-1456-4374-c402-0f431b39a86a",
        "execution": {
          "iopub.status.busy": "2021-12-24T20:37:08.579894Z",
          "iopub.execute_input": "2021-12-24T20:37:08.580186Z",
          "iopub.status.idle": "2021-12-24T20:37:11.653417Z",
          "shell.execute_reply.started": "2021-12-24T20:37:08.580148Z",
          "shell.execute_reply": "2021-12-24T20:37:11.652549Z"
        },
        "trusted": true,
        "colab": {
          "base_uri": "https://localhost:8080/"
        }
      },
      "execution_count": null,
      "outputs": [
        {
          "output_type": "stream",
          "name": "stdout",
          "text": [
            "NeuralNetwork(\n",
            "  (cnn_layer_1): Conv2d(1, 16, kernel_size=(5, 5), stride=(1, 1), padding=(2, 2))\n",
            "  (cnn_layer_2): Conv2d(16, 32, kernel_size=(5, 5), stride=(1, 1), padding=(2, 2))\n",
            "  (flatten): Flatten(start_dim=1, end_dim=-1)\n",
            "  (maxpool): MaxPool2d(kernel_size=2, stride=2, padding=0, dilation=1, ceil_mode=False)\n",
            "  (linear_layer_1): Linear(in_features=1568, out_features=512, bias=True)\n",
            "  (linear_layer_2): Linear(in_features=512, out_features=128, bias=True)\n",
            "  (linear_layer_3): Linear(in_features=128, out_features=10, bias=True)\n",
            "  (relu): ReLU()\n",
            "  (sigmoid): Sigmoid()\n",
            "  (dropout): Dropout(p=0.2, inplace=False)\n",
            ")\n"
          ]
        }
      ]
    },
    {
      "cell_type": "code",
      "source": [
        "from torchsummary import summary\n",
        "summary(model,(1,28,28))"
      ],
      "metadata": {
        "colab": {
          "base_uri": "https://localhost:8080/"
        },
        "id": "NnZwVX0Wrnvu",
        "outputId": "25d5aef4-74c4-4eb7-de72-9e27c4a7dc89"
      },
      "execution_count": null,
      "outputs": [
        {
          "output_type": "stream",
          "name": "stdout",
          "text": [
            "----------------------------------------------------------------\n",
            "        Layer (type)               Output Shape         Param #\n",
            "================================================================\n",
            "            Conv2d-1           [-1, 16, 28, 28]             416\n",
            "           Dropout-2           [-1, 16, 28, 28]               0\n",
            "              ReLU-3           [-1, 16, 28, 28]               0\n",
            "         MaxPool2d-4           [-1, 16, 14, 14]               0\n",
            "            Conv2d-5           [-1, 32, 14, 14]          12,832\n",
            "           Dropout-6           [-1, 32, 14, 14]               0\n",
            "              ReLU-7           [-1, 32, 14, 14]               0\n",
            "         MaxPool2d-8             [-1, 32, 7, 7]               0\n",
            "           Flatten-9                 [-1, 1568]               0\n",
            "           Linear-10                  [-1, 512]         803,328\n",
            "          Dropout-11                  [-1, 512]               0\n",
            "             ReLU-12                  [-1, 512]               0\n",
            "           Linear-13                  [-1, 128]          65,664\n",
            "          Dropout-14                  [-1, 128]               0\n",
            "             ReLU-15                  [-1, 128]               0\n",
            "           Linear-16                   [-1, 10]           1,290\n",
            "================================================================\n",
            "Total params: 883,530\n",
            "Trainable params: 883,530\n",
            "Non-trainable params: 0\n",
            "----------------------------------------------------------------\n",
            "Input size (MB): 0.00\n",
            "Forward/backward pass size (MB): 0.49\n",
            "Params size (MB): 3.37\n",
            "Estimated Total Size (MB): 3.87\n",
            "----------------------------------------------------------------\n"
          ]
        }
      ]
    },
    {
      "cell_type": "markdown",
      "source": [
        "# Optimizer"
      ],
      "metadata": {
        "id": "jiSLxCPdYI4B"
      }
    },
    {
      "cell_type": "code",
      "source": [
        "loss_fn = nn.CrossEntropyLoss()\n",
        "optimizer = torch.optim.SGD(model.parameters(), lr=.001)"
      ],
      "metadata": {
        "id": "cPC6Ilg4YEBM",
        "execution": {
          "iopub.status.busy": "2021-12-24T20:37:11.654579Z",
          "iopub.execute_input": "2021-12-24T20:37:11.654835Z",
          "iopub.status.idle": "2021-12-24T20:37:11.659504Z",
          "shell.execute_reply.started": "2021-12-24T20:37:11.654805Z",
          "shell.execute_reply": "2021-12-24T20:37:11.65873Z"
        },
        "trusted": true
      },
      "execution_count": null,
      "outputs": []
    },
    {
      "cell_type": "code",
      "source": [
        "def trainModel(model, loss_fn, optimizer):\n",
        "    model.train()\n",
        "\n",
        "    batch = 100\n",
        "\n",
        "    loss = 0\n",
        "    for i in range(train.shape[0]):\n",
        "      x, y = torch.reshape(train[i],(1,1,28,28)), torch.tensor([train_y[i]], dtype=torch.float)\n",
        "      label=torch.zeros([1,10,], dtype=torch.float32)\n",
        "      label[0,int(y.item())]=1\n",
        "      # Compute prediction error\n",
        "      pred = model(x)\n",
        "      #print(pred)\n",
        "      #print(label)\n",
        "      loss += loss_fn(pred, label)\n",
        "\n",
        "      if i>0 and (i+1)%batch == 0:\n",
        "          # Backpropagation\n",
        "          optimizer.zero_grad()\n",
        "          loss.backward()\n",
        "          optimizer.step()\n",
        "          print(f'Training Loss: {loss.item():.4f}', end=\"\\r\")\n",
        "          loss = 0\n",
        "    print()"
      ],
      "metadata": {
        "id": "NatEH3DiauoT",
        "execution": {
          "iopub.status.busy": "2021-12-24T20:37:11.660683Z",
          "iopub.execute_input": "2021-12-24T20:37:11.660908Z",
          "iopub.status.idle": "2021-12-24T20:37:11.67238Z",
          "shell.execute_reply.started": "2021-12-24T20:37:11.66088Z",
          "shell.execute_reply": "2021-12-24T20:37:11.671479Z"
        },
        "trusted": true
      },
      "execution_count": null,
      "outputs": []
    },
    {
      "cell_type": "markdown",
      "source": [
        "# Model testing"
      ],
      "metadata": {
        "id": "mnoDAADNmDH6"
      }
    },
    {
      "cell_type": "code",
      "source": [
        "def testModel(model, loss_fn):\n",
        "    model.eval()\n",
        "\n",
        "    size = test.shape[0]\n",
        "    correct=0\n",
        "    loss = 0\n",
        "    total =10000\n",
        "    with torch.no_grad():\n",
        "      for i in range(test.shape[0]):\n",
        "        x, y = torch.reshape(test[i],(1,1,28,28)), torch.tensor([test_y[i]], dtype=torch.float)\n",
        "        label=torch.zeros([1,10,], dtype=torch.float32)\n",
        "        label[0,int(y.item())]=1\n",
        "        pred = model(x)\n",
        "        #print(pred)\n",
        "        predicted = torch.argmax(pred)\n",
        "        #print(predicted)\n",
        "        #print(y)\n",
        "\n",
        "\n",
        "        # Total correct predictions\n",
        "        correct += (predicted == int(y)).sum()\n",
        "\n",
        "        loss += loss_fn(pred, label)\n",
        "\n",
        "    loss /= size\n",
        "    accuracy = 100 * correct.item() / total\n",
        "\n",
        "    # Print Loss\n",
        "    print('Loss: {}. Accuracy: {}'.format({loss}, accuracy))\n"
      ],
      "metadata": {
        "id": "1KaMQMhYdMsj",
        "execution": {
          "iopub.status.busy": "2021-12-24T20:37:11.67373Z",
          "iopub.execute_input": "2021-12-24T20:37:11.673945Z",
          "iopub.status.idle": "2021-12-24T20:37:11.688656Z",
          "shell.execute_reply.started": "2021-12-24T20:37:11.673919Z",
          "shell.execute_reply": "2021-12-24T20:37:11.687758Z"
        },
        "trusted": true
      },
      "execution_count": null,
      "outputs": []
    },
    {
      "cell_type": "code",
      "source": [
        "epochs = 5\n",
        "for t in range(epochs):\n",
        "    print(f\"Epoch {t+1}\\n-------------------------------\")\n",
        "    trainModel(model, loss_fn, optimizer)\n",
        "    testModel(model, loss_fn)\n",
        "print(\"Done!\")"
      ],
      "metadata": {
        "id": "FHfxWQS6kVNV",
        "outputId": "cd68d679-1363-4529-b2fe-73ae4cdebeab",
        "execution": {
          "iopub.status.busy": "2021-12-24T20:37:11.690049Z",
          "iopub.execute_input": "2021-12-24T20:37:11.690277Z"
        },
        "trusted": true,
        "colab": {
          "base_uri": "https://localhost:8080/"
        }
      },
      "execution_count": null,
      "outputs": [
        {
          "output_type": "stream",
          "name": "stdout",
          "text": [
            "Epoch 1\n",
            "-------------------------------\n",
            "Training Loss: 0.8743\n",
            "Loss: {tensor(0.0794)}. Accuracy: 97.75\n",
            "Epoch 2\n",
            "-------------------------------\n",
            "Training Loss: 0.6520\n",
            "Loss: {tensor(0.0633)}. Accuracy: 98.16\n",
            "Epoch 3\n",
            "-------------------------------\n",
            "Training Loss: 0.6977\n",
            "Loss: {tensor(0.0399)}. Accuracy: 98.8\n",
            "Epoch 4\n",
            "-------------------------------\n",
            "Training Loss: 0.1341\n",
            "Loss: {tensor(0.0383)}. Accuracy: 98.8\n",
            "Epoch 5\n",
            "-------------------------------\n",
            "Training Loss: 1.1260\n",
            "Loss: {tensor(0.0332)}. Accuracy: 99.01\n",
            "Done!\n"
          ]
        }
      ]
    },
    {
      "cell_type": "code",
      "source": [],
      "metadata": {
        "id": "vwoWh9YkvkeC"
      },
      "execution_count": null,
      "outputs": []
    }
  ]
}